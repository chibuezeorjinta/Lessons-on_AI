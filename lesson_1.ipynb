{
 "cells": [
  {
   "cell_type": "markdown",
   "metadata": {},
   "source": [
    "# **BEWARE OF BIAS**\n"
   ]
  },
  {
   "cell_type": "markdown",
   "metadata": {},
   "source": [
    "\n",
    "\n",
    "## **INTRODUCTION**\n"
   ]
  },
  {
   "cell_type": "markdown",
   "metadata": {},
   "source": [
    "In my little soiree with the ever bubbling world of A.I, I came across a progect named [Ground News](https://ground.news/) where various news articles from different sources on current issuse are graded on there polical bias. I go intreged as to how this was possible which lead me to thos little project.\n"
   ]
  },
  {
   "cell_type": "markdown",
   "metadata": {},
   "source": [
    "\n",
    "## **TOOLS**\n"
   ]
  },
  {
   "cell_type": "markdown",
   "metadata": {},
   "source": [
    "\n",
    "MODULE | DESCRIPTION\n",
    "------ | ----------\n",
    "nltk | `Natural Language Toolkit`. this is the main module that analyses text for python. It can be seen as a module that allow python to read a book or the articles that we are about to give it. this does not *understand* what its reading *just jet*.\n",
    "textblob | This is the ***big boy***. It gives python the language cognition of a 10 year old by my estimations. Whcih turns out to be very powerful when the 10 year old only reads article like its life depends on it.\n",
    "newpaper3k | this module will enable us download articles from the internet."
   ]
  },
  {
   "cell_type": "markdown",
   "metadata": {},
   "source": [
    "**WINDOWS**"
   ]
  },
  {
   "cell_type": "code",
   "execution_count": null,
   "metadata": {
    "vscode": {
     "languageId": "powershell"
    }
   },
   "outputs": [],
   "source": [
    "%pip --upgrade\n",
    "%pip install nltk\n",
    "%pip install textblob\n",
    "%pip install newspaper3k"
   ]
  },
  {
   "cell_type": "markdown",
   "metadata": {},
   "source": [
    "**LINUX**"
   ]
  },
  {
   "cell_type": "code",
   "execution_count": null,
   "metadata": {},
   "outputs": [],
   "source": [
    "%pip3 install nltk\n",
    "%pip3 install textblob\n",
    "%pip3 install newspaper3k"
   ]
  },
  {
   "cell_type": "markdown",
   "metadata": {},
   "source": [
    "## **ARTICLES**\n"
   ]
  },
  {
   "cell_type": "markdown",
   "metadata": {},
   "source": [
    "\n",
    "Now we source for articles on the topic you want to read on.\n",
    "I will be doing a compartive analysis on the topic 'the overturning of Row vs Wade' from two sources [cnn.com](https://www.cnn.com/) and [msnbc.com](https://www.msnbc.com/). We take 3 topics on the issue on run to see the how they lean.\n",
    "\n",
    "A quick tip for searching google for topics:\n",
    "```\n",
    "site:[url] ['TOPIC'] OR ['TOPIC']\n",
    "``` \n",
    "> Where url is the website or source-site and topic repersents various iterations of the topic. For instance:   \n",
    "\n",
    ">`site:cnn.com \"overturning Roe v. Wade\" OR \"Roe v. Wade Supreme Court\" OR \"abortion rights Supreme Court\" OR \"Supreme Court abortion ruling\" OR \"abortion law change\" OR \"abortion rights debate\" OR \"Supreme Court abortion case\" OR \"abortion legislation\" OR \"abortion access\" OR \"reproductive rights\" OR \"women's health rights\"`"
   ]
  },
  {
   "cell_type": "code",
   "execution_count": 5,
   "metadata": {},
   "outputs": [
    {
     "name": "stdout",
     "output_type": "stream",
     "text": [
      "{'Official overturn': [0.07666666666666666, 0.1578125], 'Life After': [0.06259573759573758, 0.30345779220779223], 'State level': [0.0, 0.3202020202020202]}\n"
     ]
    }
   ],
   "source": [
    "from textblob import TextBlob\n",
    "from newspaper import Article\n",
    "\n",
    "\n",
    "# Get a list of urls using to search method above in your browser.\n",
    "cnn = {\n",
    "\t'Official overturn': 'https://www.cnn.com/2022/07/26/politics/abortion-supreme-court/index.html',\n",
    "\t'Life After': 'https://www.cnn.com/2022/11/01/health/abortion-access-travel-time/index.html',\n",
    "\t'State level': 'https://www.cnn.com/interactive/2022/us/abortion-laws-access-by-state/index.html'\n",
    "}\n",
    "\n",
    "msnbc = {\n",
    "\t'Official overturn': 'https://www.msnbc.com/opinion/msnbc-opinion/supreme-court-overturned-roe-v-wade-what-s-next-abortion-n1296339',\n",
    "\t'Life After': 'https://on.msnbc.com/3G5EGF1',\n",
    "\t'State level': 'https://www.msnbc.com/the-reidout/watch/abortion-access-mostly-restricted-after-12-weeks-of-pregnancy-with-new-north-carolina-law-186662469964'\n",
    "}\n",
    "\n",
    "sentiment = {}\n",
    "\n",
    "# Now lets make use of our libraries.\n",
    "\n",
    "for subTopic, url in cnn.items():\n",
    "\t# Download the article and parse it for the langage module\n",
    "\tarticle = Article(url)\n",
    "\tarticle.download()\n",
    "\tarticle.parse()\n",
    "\tarticle.nlp()\n",
    "\n",
    "\ttext = article.summary # one can use article.summary here, but i choose to be thorough\n",
    "\n",
    "\t\"\"\"\n",
    "\tLanguage module part\n",
    "\tTextBlob has a 'polarity' method that gives values ranging from\n",
    "\t[-1, 1]. hence for our work, the value represents the articles sentiment\n",
    "\ttowards the given subTopic.\n",
    "\t\"\"\"\n",
    "\tblob = TextBlob(text)\n",
    "\tif subTopic not in sentiment:\n",
    "\t\tsentiment[subTopic] = []\n",
    "\tsentiment[subTopic].append(blob.sentiment.polarity)\n",
    "\n",
    "\n",
    "\n",
    "for subTopic, url in msnbc.items():\n",
    "\t# Download the article and parse it for the langage module\n",
    "\tarticle = Article(url)\n",
    "\tarticle.download()\n",
    "\tarticle.parse()\n",
    "\tarticle.nlp()\n",
    "\n",
    "\ttext = article.summary # one can use article.summary here, but i choose to be thorough\n",
    "\n",
    "\t\"\"\"\n",
    "\tLanguage module part\n",
    "\tTextBlob has a 'polarity' method that gives values ranging from\n",
    "\t[-1, 1]. hence for our work, the value represents the articles sentiment\n",
    "\ttowards the given subTopic.\n",
    "\t\"\"\"\n",
    "\tblob = TextBlob(text)\n",
    "\tif subTopic not in sentiment:\n",
    "\t\tsentiment[subTopic] = []\n",
    "\tsentiment[subTopic].append(blob.sentiment.polarity)\n",
    "\n",
    "print(sentiment)"
   ]
  },
  {
   "cell_type": "markdown",
   "metadata": {},
   "source": [
    "### DISCUSSION"
   ]
  },
  {
   "cell_type": "markdown",
   "metadata": {},
   "source": [
    "We see that 'CNN' is consistently more on the neutral level when compared to the other news provider almost by a factor of 10.\n",
    "However, many factors can affect this outcome:\n",
    "- The topics are not always a perfect match.\n",
    "- The sources cited within the text itself might provide oppostie conclussions hence giving the illusion of convergence or agreement between the two sources."
   ]
  },
  {
   "cell_type": "markdown",
   "metadata": {},
   "source": [
    "## NOTES"
   ]
  },
  {
   "cell_type": "markdown",
   "metadata": {},
   "source": [
    "You may run into an error where a dependency 'punkt' is not found. Do run the section below, however this may only work after multiple attempts over some days and times as the issue is a server-side problem."
   ]
  },
  {
   "cell_type": "code",
   "execution_count": null,
   "metadata": {},
   "outputs": [],
   "source": [
    "import nltk\n",
    "nltk.download('punkt')"
   ]
  },
  {
   "cell_type": "markdown",
   "metadata": {},
   "source": [
    "For further readings [Try this](https://youtu.be/tXuvh5_Xyrw?feature=shared)"
   ]
  }
 ],
 "metadata": {
  "kernelspec": {
   "display_name": "Python 3",
   "language": "python",
   "name": "python3"
  },
  "language_info": {
   "codemirror_mode": {
    "name": "ipython",
    "version": 3
   },
   "file_extension": ".py",
   "mimetype": "text/x-python",
   "name": "python",
   "nbconvert_exporter": "python",
   "pygments_lexer": "ipython3",
   "version": "3.10.4"
  },
  "orig_nbformat": 4
 },
 "nbformat": 4,
 "nbformat_minor": 2
}
